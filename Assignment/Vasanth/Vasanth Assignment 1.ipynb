{
 "cells": [
  {
   "cell_type": "markdown",
   "id": "cba03fa2",
   "metadata": {},
   "source": [
    "Basic Python\n",
    "1. SPLIT STRING"
   ]
  },
  {
   "cell_type": "code",
   "execution_count": 1,
   "id": "4771c47f",
   "metadata": {},
   "outputs": [
    {
     "data": {
      "text/plain": [
       "['Hi', 'there', 'Sam!']"
      ]
     },
     "execution_count": 1,
     "metadata": {},
     "output_type": "execute_result"
    }
   ],
   "source": [
    "s = \"Hi there Sam!\"\n",
    "s.split()"
   ]
  },
  {
   "cell_type": "markdown",
   "id": "7229a8a5",
   "metadata": {},
   "source": [
    "2. Use .format() to print the following string, Output should be: The diameter of Earth is 12742 kilometers."
   ]
  },
  {
   "cell_type": "code",
   "execution_count": 4,
   "id": "47ef5345",
   "metadata": {},
   "outputs": [
    {
     "name": "stdout",
     "output_type": "stream",
     "text": [
      "The diameter of Earth is 12742 kilometers.\n"
     ]
    }
   ],
   "source": [
    "planet = \"Earth\"\n",
    "diameter = 12742\n",
    "mystring = \"The diameter of {} is {} kilometers.\"\n",
    "print(mystring.format(planet,diameter))"
   ]
  },
  {
   "cell_type": "markdown",
   "id": "45aeb252",
   "metadata": {},
   "source": [
    "3. In this nest dictionary grab the word \"hello\""
   ]
  },
  {
   "cell_type": "code",
   "execution_count": 5,
   "id": "34ee90cb",
   "metadata": {},
   "outputs": [
    {
     "data": {
      "text/plain": [
       "'hello'"
      ]
     },
     "execution_count": 5,
     "metadata": {},
     "output_type": "execute_result"
    }
   ],
   "source": [
    "d = {'k1':[1,2,3,{'tricky':['oh','man','inception',{'target':[1,2,3,'hello']}]}]}\n",
    "d['k1'][3]['tricky'][3]['target'][3]"
   ]
  },
  {
   "cell_type": "markdown",
   "id": "3923d784",
   "metadata": {},
   "source": [
    "4. Numpy"
   ]
  },
  {
   "cell_type": "markdown",
   "id": "3ebdc178",
   "metadata": {},
   "source": [
    "4.1. Create an array of 10 zeros?"
   ]
  },
  {
   "cell_type": "code",
   "execution_count": 7,
   "id": "c4468d7b",
   "metadata": {},
   "outputs": [
    {
     "data": {
      "text/plain": [
       "array([0., 0., 0., 0., 0., 0., 0., 0., 0., 0.])"
      ]
     },
     "execution_count": 7,
     "metadata": {},
     "output_type": "execute_result"
    }
   ],
   "source": [
    "import numpy as np\n",
    "np.zeros(10)"
   ]
  },
  {
   "cell_type": "markdown",
   "id": "ade1c541",
   "metadata": {},
   "source": [
    "4.2. Create an array of 10 fives?"
   ]
  },
  {
   "cell_type": "code",
   "execution_count": 8,
   "id": "19e19212",
   "metadata": {},
   "outputs": [
    {
     "data": {
      "text/plain": [
       "array([5., 5., 5., 5., 5., 5., 5., 5., 5., 5.])"
      ]
     },
     "execution_count": 8,
     "metadata": {},
     "output_type": "execute_result"
    }
   ],
   "source": [
    "np.ones(10)*5"
   ]
  },
  {
   "cell_type": "markdown",
   "id": "01aef851",
   "metadata": {},
   "source": [
    "5. Create an array of all the even integers from 20 to 35"
   ]
  },
  {
   "cell_type": "code",
   "execution_count": 9,
   "id": "3b5194ab",
   "metadata": {},
   "outputs": [
    {
     "data": {
      "text/plain": [
       "array([20, 22, 24, 26, 28, 30, 32, 34])"
      ]
     },
     "execution_count": 9,
     "metadata": {},
     "output_type": "execute_result"
    }
   ],
   "source": [
    "np.arange(20,35,2)"
   ]
  },
  {
   "cell_type": "markdown",
   "id": "e43238b3",
   "metadata": {},
   "source": [
    "6. Create a 3x3 matrix with values ranging from 0 to 8"
   ]
  },
  {
   "cell_type": "code",
   "execution_count": 10,
   "id": "b3e1066e",
   "metadata": {},
   "outputs": [
    {
     "data": {
      "text/plain": [
       "array([[0, 1, 2],\n",
       "       [3, 4, 5],\n",
       "       [6, 7, 8]])"
      ]
     },
     "execution_count": 10,
     "metadata": {},
     "output_type": "execute_result"
    }
   ],
   "source": [
    "np.arange(0,9).reshape(3,3)"
   ]
  },
  {
   "cell_type": "markdown",
   "id": "3063f523",
   "metadata": {},
   "source": [
    "7. Concatinate a and b\n",
    "a = np.array([1, 2, 3]), b = np.array([4, 5, 6])"
   ]
  },
  {
   "cell_type": "code",
   "execution_count": 11,
   "id": "9a2d4ea0",
   "metadata": {},
   "outputs": [
    {
     "data": {
      "text/plain": [
       "array([1, 2, 3, 4, 5, 6])"
      ]
     },
     "execution_count": 11,
     "metadata": {},
     "output_type": "execute_result"
    }
   ],
   "source": [
    "a = np.array([1, 2, 3])\n",
    "b = np.array([4, 5, 6])\n",
    "np.concatenate((a,b),axis=None)"
   ]
  },
  {
   "cell_type": "markdown",
   "id": "4a7a6259",
   "metadata": {},
   "source": [
    "Pandas\n",
    "8. Create a dataframe with 3 rows and 2 columns"
   ]
  },
  {
   "cell_type": "code",
   "execution_count": 15,
   "id": "b97ac629",
   "metadata": {},
   "outputs": [
    {
     "data": {
      "text/plain": [
       "array([[0, 2],\n",
       "       [2, 0],\n",
       "       [3, 0]])"
      ]
     },
     "execution_count": 15,
     "metadata": {},
     "output_type": "execute_result"
    }
   ],
   "source": [
    "import pandas as pd\n",
    "a = np.random.randint(10,size=(3,2))\n",
    "a"
   ]
  },
  {
   "cell_type": "markdown",
   "id": "aab76652",
   "metadata": {},
   "source": [
    "9. Generate the series of dates from 1st Jan, 2023 to 10th Feb, 2023"
   ]
  },
  {
   "cell_type": "code",
   "execution_count": 16,
   "id": "2d4590b3",
   "metadata": {},
   "outputs": [
    {
     "data": {
      "text/plain": [
       "[datetime.datetime(2023, 1, 1, 0, 0),\n",
       " datetime.datetime(2023, 1, 2, 0, 0),\n",
       " datetime.datetime(2023, 1, 3, 0, 0),\n",
       " datetime.datetime(2023, 1, 4, 0, 0),\n",
       " datetime.datetime(2023, 1, 5, 0, 0),\n",
       " datetime.datetime(2023, 1, 6, 0, 0),\n",
       " datetime.datetime(2023, 1, 7, 0, 0),\n",
       " datetime.datetime(2023, 1, 8, 0, 0),\n",
       " datetime.datetime(2023, 1, 9, 0, 0),\n",
       " datetime.datetime(2023, 1, 10, 0, 0),\n",
       " datetime.datetime(2023, 1, 11, 0, 0),\n",
       " datetime.datetime(2023, 1, 12, 0, 0),\n",
       " datetime.datetime(2023, 1, 13, 0, 0),\n",
       " datetime.datetime(2023, 1, 14, 0, 0),\n",
       " datetime.datetime(2023, 1, 15, 0, 0),\n",
       " datetime.datetime(2023, 1, 16, 0, 0),\n",
       " datetime.datetime(2023, 1, 17, 0, 0),\n",
       " datetime.datetime(2023, 1, 18, 0, 0),\n",
       " datetime.datetime(2023, 1, 19, 0, 0),\n",
       " datetime.datetime(2023, 1, 20, 0, 0),\n",
       " datetime.datetime(2023, 1, 21, 0, 0),\n",
       " datetime.datetime(2023, 1, 22, 0, 0),\n",
       " datetime.datetime(2023, 1, 23, 0, 0),\n",
       " datetime.datetime(2023, 1, 24, 0, 0),\n",
       " datetime.datetime(2023, 1, 25, 0, 0),\n",
       " datetime.datetime(2023, 1, 26, 0, 0),\n",
       " datetime.datetime(2023, 1, 27, 0, 0),\n",
       " datetime.datetime(2023, 1, 28, 0, 0),\n",
       " datetime.datetime(2023, 1, 29, 0, 0),\n",
       " datetime.datetime(2023, 1, 30, 0, 0),\n",
       " datetime.datetime(2023, 1, 31, 0, 0),\n",
       " datetime.datetime(2023, 2, 1, 0, 0),\n",
       " datetime.datetime(2023, 2, 2, 0, 0),\n",
       " datetime.datetime(2023, 2, 3, 0, 0),\n",
       " datetime.datetime(2023, 2, 4, 0, 0),\n",
       " datetime.datetime(2023, 2, 5, 0, 0),\n",
       " datetime.datetime(2023, 2, 6, 0, 0),\n",
       " datetime.datetime(2023, 2, 7, 0, 0),\n",
       " datetime.datetime(2023, 2, 8, 0, 0),\n",
       " datetime.datetime(2023, 2, 9, 0, 0),\n",
       " datetime.datetime(2023, 2, 10, 0, 0)]"
      ]
     },
     "execution_count": 16,
     "metadata": {},
     "output_type": "execute_result"
    }
   ],
   "source": [
    "from datetime import datetime\n",
    "pd.date_range(start=\"2023-01-01\",end=\"2023-02-10\").to_pydatetime().tolist()"
   ]
  },
  {
   "cell_type": "markdown",
   "id": "c67e18c9",
   "metadata": {},
   "source": [
    "10. Create 2D list to DataFrame"
   ]
  },
  {
   "cell_type": "code",
   "execution_count": 3,
   "id": "0a5489ae",
   "metadata": {},
   "outputs": [
    {
     "name": "stdout",
     "output_type": "stream",
     "text": [
      "   0    1   2\n",
      "0  1  aaa  22\n",
      "1  2  bbb  25\n",
      "2  3  ccc  24\n"
     ]
    }
   ],
   "source": [
    "import pandas as pd\n",
    "lists = [[1, 'aaa', 22], [2, 'bbb', 25], [3, 'ccc', 24]]\n",
    "df = pd.DataFrame(lists) \n",
    "print(df )"
   ]
  }
 ],
 "metadata": {
  "kernelspec": {
   "display_name": "Python 3 (ipykernel)",
   "language": "python",
   "name": "python3"
  },
  "language_info": {
   "codemirror_mode": {
    "name": "ipython",
    "version": 3
   },
   "file_extension": ".py",
   "mimetype": "text/x-python",
   "name": "python",
   "nbconvert_exporter": "python",
   "pygments_lexer": "ipython3",
   "version": "3.9.12"
  }
 },
 "nbformat": 4,
 "nbformat_minor": 5
}
